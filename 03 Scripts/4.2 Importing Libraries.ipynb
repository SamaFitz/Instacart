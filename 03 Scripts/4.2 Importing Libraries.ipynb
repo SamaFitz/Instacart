{
 "cells": [
  {
   "cell_type": "code",
   "execution_count": null,
   "id": "302a55ba-2c83-4537-9cc0-19c0ada057bb",
   "metadata": {},
   "outputs": [],
   "source": [
    "# Import Libraries\n",
    "import pandas as pd\n",
    "import numpy as np\n",
    "import os"
   ]
  },
  {
   "cell_type": "code",
   "execution_count": null,
   "id": "b585bb3e-896b-4e86-becc-08a2a0aa3cee",
   "metadata": {},
   "outputs": [],
   "source": [
    "# Python Data Types"
   ]
  },
  {
   "cell_type": "code",
   "execution_count": 1,
   "id": "66b8cdfc-78d7-4827-8387-a7cc909b1287",
   "metadata": {},
   "outputs": [],
   "source": [
    "x = 50"
   ]
  },
  {
   "cell_type": "code",
   "execution_count": 2,
   "id": "8183af63-b443-4330-bd00-d10078590a0f",
   "metadata": {},
   "outputs": [
    {
     "data": {
      "text/plain": [
       "100"
      ]
     },
     "execution_count": 2,
     "metadata": {},
     "output_type": "execute_result"
    }
   ],
   "source": [
    "x + x"
   ]
  },
  {
   "cell_type": "code",
   "execution_count": 3,
   "id": "edff03ae-7877-4d84-950b-bcdbb374ef8d",
   "metadata": {},
   "outputs": [],
   "source": [
    "y = 25"
   ]
  },
  {
   "cell_type": "code",
   "execution_count": 4,
   "id": "063def39-a472-4c2b-942e-41751f6294c0",
   "metadata": {},
   "outputs": [
    {
     "data": {
      "text/plain": [
       "100"
      ]
     },
     "execution_count": 4,
     "metadata": {},
     "output_type": "execute_result"
    }
   ],
   "source": [
    "y * 4"
   ]
  },
  {
   "cell_type": "code",
   "execution_count": 6,
   "id": "5c0e70a2-f289-439e-a8bb-e3d404ea60f5",
   "metadata": {},
   "outputs": [
    {
     "data": {
      "text/plain": [
       "100"
      ]
     },
     "execution_count": 6,
     "metadata": {},
     "output_type": "execute_result"
    }
   ],
   "source": [
    "y * 6 - x"
   ]
  },
  {
   "cell_type": "code",
   "execution_count": 7,
   "id": "69f7b139-5a24-492c-b7d0-951790320d63",
   "metadata": {},
   "outputs": [],
   "source": [
    "a = 1.5"
   ]
  },
  {
   "cell_type": "code",
   "execution_count": 8,
   "id": "0e8c4205-11c1-4d08-b22e-e9ff6716aca9",
   "metadata": {},
   "outputs": [],
   "source": [
    "b = 0.75"
   ]
  },
  {
   "cell_type": "code",
   "execution_count": 9,
   "id": "b6e0bfd4-5c9f-4bf2-82e7-63e14f4182d3",
   "metadata": {},
   "outputs": [
    {
     "data": {
      "text/plain": [
       "2.0"
      ]
     },
     "execution_count": 9,
     "metadata": {},
     "output_type": "execute_result"
    }
   ],
   "source": [
    "a / b"
   ]
  },
  {
   "cell_type": "code",
   "execution_count": 20,
   "id": "bbe25a8a-4de4-40b7-b15f-a8d5ec30d130",
   "metadata": {},
   "outputs": [],
   "source": [
    "a = 'Love '"
   ]
  },
  {
   "cell_type": "code",
   "execution_count": 21,
   "id": "e70aea8c-a9f7-4735-846e-e0fa1bda0d18",
   "metadata": {},
   "outputs": [],
   "source": [
    "b = 'life '"
   ]
  },
  {
   "cell_type": "code",
   "execution_count": 22,
   "id": "8368a3be-62d6-4313-8d7b-15b3768ff5ef",
   "metadata": {},
   "outputs": [],
   "source": [
    "c = 'the '"
   ]
  },
  {
   "cell_type": "code",
   "execution_count": 24,
   "id": "ee4f8abb-6e40-4b4c-b2cd-46e3a378eb25",
   "metadata": {},
   "outputs": [],
   "source": [
    "d = 'you '"
   ]
  },
  {
   "cell_type": "code",
   "execution_count": 25,
   "id": "ea45c243-7620-42b2-b9b8-6e01ec0aec9a",
   "metadata": {},
   "outputs": [],
   "source": [
    "e = 'live.'"
   ]
  },
  {
   "cell_type": "code",
   "execution_count": 26,
   "id": "79e711f6-b723-4096-986c-f0bd3ab65843",
   "metadata": {},
   "outputs": [
    {
     "data": {
      "text/plain": [
       "'Love the life you live.'"
      ]
     },
     "execution_count": 26,
     "metadata": {},
     "output_type": "execute_result"
    }
   ],
   "source": [
    "a + c + b + d + e"
   ]
  },
  {
   "cell_type": "code",
   "execution_count": 27,
   "id": "6d9ea830-f105-462a-92a5-2968993f82b0",
   "metadata": {},
   "outputs": [],
   "source": [
    "f = 'Spread '"
   ]
  },
  {
   "cell_type": "code",
   "execution_count": 28,
   "id": "1af5efd4-d4f3-4fff-a514-f72c0b0e5e14",
   "metadata": {},
   "outputs": [],
   "source": [
    "g = 'everywhere '"
   ]
  },
  {
   "cell_type": "code",
   "execution_count": 29,
   "id": "d6d29e5a-7749-411d-bb0e-ae6c596a5112",
   "metadata": {},
   "outputs": [],
   "source": [
    "h = 'go.'"
   ]
  },
  {
   "cell_type": "code",
   "execution_count": 30,
   "id": "821f6298-1910-4acf-87fd-cfaeba0dbb6a",
   "metadata": {},
   "outputs": [
    {
     "data": {
      "text/plain": [
       "'Spread Love everywhere you go.'"
      ]
     },
     "execution_count": 30,
     "metadata": {},
     "output_type": "execute_result"
    }
   ],
   "source": [
    "f + a + g + d + h"
   ]
  },
  {
   "cell_type": "code",
   "execution_count": null,
   "id": "29e58a11-064c-42f8-9268-1e0aef3c168f",
   "metadata": {},
   "outputs": [],
   "source": []
  }
 ],
 "metadata": {
  "kernelspec": {
   "display_name": "Python 3 (ipykernel)",
   "language": "python",
   "name": "python3"
  },
  "language_info": {
   "codemirror_mode": {
    "name": "ipython",
    "version": 3
   },
   "file_extension": ".py",
   "mimetype": "text/x-python",
   "name": "python",
   "nbconvert_exporter": "python",
   "pygments_lexer": "ipython3",
   "version": "3.9.13"
  },
  "toc-autonumbering": true,
  "toc-showmarkdowntxt": true
 },
 "nbformat": 4,
 "nbformat_minor": 5
}
